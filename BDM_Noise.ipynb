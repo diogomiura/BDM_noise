{
 "cells": [
  {
   "cell_type": "code",
   "execution_count": 31,
   "metadata": {
    "collapsed": false
   },
   "outputs": [],
   "source": [
    "import csv\n",
    "import mapreduce as mr\n",
    "import dateutil\n",
    "from dateutil import parser\n",
    "import operator"
   ]
  },
  {
   "cell_type": "markdown",
   "metadata": {},
   "source": [
    "#1. Weekday"
   ]
  },
  {
   "cell_type": "code",
   "execution_count": 10,
   "metadata": {
    "collapsed": false
   },
   "outputs": [
    {
     "data": {
      "text/plain": [
       "[(('', 6), 981),\n",
       " (('00083', 0), 15),\n",
       " (('00083', 1), 12),\n",
       " (('00083', 2), 12),\n",
       " (('00083', 3), 16)]"
      ]
     },
     "execution_count": 10,
     "metadata": {},
     "output_type": "execute_result"
    }
   ],
   "source": [
    "#Calculating sum of complaints per zipcode per weekday\n",
    "\n",
    "def mapper1(row):\n",
    "    weekday = (row['Incident Zip'], dateutil.parser.parse(row['Created Date']).weekday())\n",
    "    yield (weekday, 1)\n",
    "\n",
    "def reducer1(k2v2):\n",
    "    weekday, count = k2v2\n",
    "    return (weekday, sum(count)) \n",
    "\n",
    "with open('311_noise.csv', 'r') as fi:\n",
    "    reader = csv.DictReader(fi)\n",
    "    output1 = list(mr.run(reader, mapper1, reducer1))\n",
    "\n",
    "output1[6:11]"
   ]
  },
  {
   "cell_type": "code",
   "execution_count": 95,
   "metadata": {
    "collapsed": false
   },
   "outputs": [
    {
     "data": {
      "text/plain": [
       "['',\n",
       " '10065',\n",
       " '10069',\n",
       " '10453',\n",
       " '10452',\n",
       " '10451',\n",
       " '10457',\n",
       " '10456',\n",
       " '10455',\n",
       " '10454']"
      ]
     },
     "execution_count": 95,
     "metadata": {},
     "output_type": "execute_result"
    }
   ],
   "source": [
    "#Getting unique zipcodes\n",
    "\n",
    "zipcodes = []\n",
    "\n",
    "for i in output1:\n",
    "    zipcodes.append(i[0][0])\n",
    "    \n",
    "zipcodes = list(set(zipcodes))\n",
    "\n",
    "zipcodes[:10]"
   ]
  },
  {
   "cell_type": "code",
   "execution_count": 12,
   "metadata": {
    "collapsed": false
   },
   "outputs": [
    {
     "data": {
      "text/plain": [
       "[(0, 999), (1, 1064), (2, 1039), (3, 979), (4, 1221), (5, 1898), (6, 1936)]"
      ]
     },
     "execution_count": 12,
     "metadata": {},
     "output_type": "execute_result"
    }
   ],
   "source": [
    "#Creating dictionaries for each zipcode\n",
    "\n",
    "weekday = {}\n",
    "\n",
    "for i in zipcodes:\n",
    "    weekday[i] = []\n",
    "    \n",
    "for i in output1:\n",
    "    weekday[i[0][0]].append(((i[0][1]), i[1]))\n",
    "    \n",
    "weekday['11216']"
   ]
  },
  {
   "cell_type": "markdown",
   "metadata": {},
   "source": [
    "#2. Hour"
   ]
  },
  {
   "cell_type": "code",
   "execution_count": 13,
   "metadata": {
    "collapsed": false
   },
   "outputs": [
    {
     "data": {
      "text/plain": [
       "[(('', 15), 212),\n",
       " (('', 16), 216),\n",
       " (('', 17), 195),\n",
       " (('', 18), 217),\n",
       " (('', 19), 231)]"
      ]
     },
     "execution_count": 13,
     "metadata": {},
     "output_type": "execute_result"
    }
   ],
   "source": [
    "#Calculating sum of complaints per zipcode per hour\n",
    "\n",
    "def mapper1(row):\n",
    "    hour = (row['Incident Zip'], dateutil.parser.parse(row['Created Date']).hour)\n",
    "    yield (hour, 1)\n",
    "\n",
    "def reducer1(k2v2):\n",
    "    hour, count = k2v2\n",
    "    return (hour, sum(count)) \n",
    "\n",
    "with open('311_noise.csv', 'r') as fi:\n",
    "    reader = csv.DictReader(fi)\n",
    "    output2 = list(mr.run(reader, mapper1, reducer1))\n",
    "\n",
    "output2[15:20]"
   ]
  },
  {
   "cell_type": "code",
   "execution_count": 14,
   "metadata": {
    "collapsed": false
   },
   "outputs": [
    {
     "data": {
      "text/plain": [
       "[(0, 890),\n",
       " (1, 828),\n",
       " (2, 544),\n",
       " (3, 273),\n",
       " (4, 182),\n",
       " (5, 114),\n",
       " (6, 113),\n",
       " (7, 154),\n",
       " (8, 209),\n",
       " (9, 237),\n",
       " (10, 206),\n",
       " (11, 205),\n",
       " (12, 200),\n",
       " (13, 239),\n",
       " (14, 185),\n",
       " (15, 217),\n",
       " (16, 257),\n",
       " (17, 235),\n",
       " (18, 345),\n",
       " (19, 364),\n",
       " (20, 519),\n",
       " (21, 622),\n",
       " (22, 832),\n",
       " (23, 1166)]"
      ]
     },
     "execution_count": 14,
     "metadata": {},
     "output_type": "execute_result"
    }
   ],
   "source": [
    "#Creating dictionaries for each zipcode\n",
    "\n",
    "hour = {}\n",
    "\n",
    "for i in zipcodes:\n",
    "    hour[i] = []\n",
    "    \n",
    "for i in output2:\n",
    "    hour[i[0][0]].append(((i[0][1]), i[1]))\n",
    "    \n",
    "hour['11216']"
   ]
  },
  {
   "cell_type": "markdown",
   "metadata": {},
   "source": [
    "#3. Descriptor"
   ]
  },
  {
   "cell_type": "code",
   "execution_count": 18,
   "metadata": {
    "collapsed": false
   },
   "outputs": [
    {
     "data": {
      "text/plain": [
       "[(('', 'Loud Talking'), 295),\n",
       " (('', 'Loud Television'), 1),\n",
       " (('', 'NYPD'), 1),\n",
       " (('', 'News Gathering'), 2),\n",
       " (('', 'Noise, Barking Dog (NR5)'), 517)]"
      ]
     },
     "execution_count": 18,
     "metadata": {},
     "output_type": "execute_result"
    }
   ],
   "source": [
    "#Calculating sum of complaints per zipcode per descriptor\n",
    "\n",
    "def mapper3(row):\n",
    "    descriptor = (row['Incident Zip'], row['Descriptor'])\n",
    "    yield (descriptor, 1)\n",
    "\n",
    "def reducer3(k2v2):\n",
    "    descriptor, count = k2v2\n",
    "    return (descriptor, sum(count)) \n",
    "\n",
    "with open('311_noise.csv', 'r') as fi:\n",
    "    reader = csv.DictReader(fi)\n",
    "    output3 = list(mr.run(reader, mapper3, reducer3))\n",
    "\n",
    "output3[7:12]"
   ]
  },
  {
   "cell_type": "code",
   "execution_count": 60,
   "metadata": {
    "collapsed": false
   },
   "outputs": [
    {
     "data": {
      "text/plain": [
       "[('Noise: Construction Before/After Hours (NM1)', 1013),\n",
       " ('Loud Music/Party', 584),\n",
       " ('Noise: Jack Hammering (NC2)', 256),\n",
       " ('Loud Talking', 229),\n",
       " ('Noise: Construction Equipment (NC1)', 153)]"
      ]
     },
     "execution_count": 60,
     "metadata": {},
     "output_type": "execute_result"
    }
   ],
   "source": [
    "#Creating dictionaries for each zipcode\n",
    "\n",
    "descriptor = {}\n",
    "\n",
    "for i in zipcodes:\n",
    "    descriptor[i] = []\n",
    "    \n",
    "for i in output3:\n",
    "    descriptor[i[0][0]].append(((i[0][1]), i[1]))\n",
    "\n",
    "#Extracting top 5 complaints per zipcode \n",
    "\n",
    "for i in zipcodes:\n",
    "    descriptor[i].sort(key=operator.itemgetter(1), reverse=True)\n",
    "    descriptor[i] = descriptor[i][:5]\n",
    "    \n",
    "descriptor['10005']"
   ]
  },
  {
   "cell_type": "markdown",
   "metadata": {},
   "source": [
    "#4. Total complaints (+ bottom 10/top 10)"
   ]
  },
  {
   "cell_type": "code",
   "execution_count": 62,
   "metadata": {
    "collapsed": false
   },
   "outputs": [
    {
     "data": {
      "text/plain": [
       "[('', 7411), ('00083', 292), ('10000', 267), ('10001', 8196), ('10002', 14796)]"
      ]
     },
     "execution_count": 62,
     "metadata": {},
     "output_type": "execute_result"
    }
   ],
   "source": [
    "#Calculating sum of complaints per zipcode per hour\n",
    "\n",
    "def mapper4(row):\n",
    "    zipcode = row['Incident Zip']\n",
    "    yield (zipcode, 1)\n",
    "\n",
    "def reducer4(k2v2):\n",
    "    zipcode, count = k2v2\n",
    "    return (zipcode, sum(count)) \n",
    "\n",
    "with open('311_noise.csv', 'r') as fi:\n",
    "    reader = csv.DictReader(fi)\n",
    "    output4 = list(mr.run(reader, mapper4, reducer4))\n",
    "\n",
    "output4[:5]"
   ]
  },
  {
   "cell_type": "code",
   "execution_count": 65,
   "metadata": {
    "collapsed": false
   },
   "outputs": [
    {
     "data": {
      "text/plain": [
       "[('10123', 1),\n",
       " ('10803', 1),\n",
       " ('11371', 1),\n",
       " ('11241', 2),\n",
       " ('10103', 3),\n",
       " ('10111', 3),\n",
       " ('10107', 4),\n",
       " ('10112', 4),\n",
       " ('10119', 4),\n",
       " ('11242', 4)]"
      ]
     },
     "execution_count": 65,
     "metadata": {},
     "output_type": "execute_result"
    }
   ],
   "source": [
    "#Ordering zipcodes by number of noise complaints\n",
    "\n",
    "output4.sort(key=operator.itemgetter(1))\n",
    "\n",
    "#Zipcodes with the least complaints\n",
    "\n",
    "output4[:10]"
   ]
  },
  {
   "cell_type": "code",
   "execution_count": 66,
   "metadata": {
    "collapsed": false
   },
   "outputs": [
    {
     "data": {
      "text/plain": [
       "[('10040', 12178),\n",
       " ('10011', 12279),\n",
       " ('10019', 13094),\n",
       " ('11238', 13181),\n",
       " ('10025', 13197),\n",
       " ('10032', 13598),\n",
       " ('10009', 14341),\n",
       " ('10002', 14796),\n",
       " ('10003', 15329),\n",
       " ('11211', 17897)]"
      ]
     },
     "execution_count": 66,
     "metadata": {},
     "output_type": "execute_result"
    }
   ],
   "source": [
    "#Zipcodes with the most complaints\n",
    "\n",
    "output4[len(output4)-10:len(output4)]"
   ]
  },
  {
   "cell_type": "markdown",
   "metadata": {},
   "source": [
    "#5. Normalized complaints (+ bottom 10/top 10)"
   ]
  },
  {
   "cell_type": "code",
   "execution_count": 76,
   "metadata": {
    "collapsed": false
   },
   "outputs": [
    {
     "data": {
      "text/plain": [
       "[('10001', 21102),\n",
       " ('10002', 81410),\n",
       " ('10003', 56024),\n",
       " ('10004', 3089),\n",
       " ('10005', 7135),\n",
       " ('10006', 3011),\n",
       " ('10007', 6988),\n",
       " ('10009', 61347),\n",
       " ('10010', 31834),\n",
       " ('10011', 50984)]"
      ]
     },
     "execution_count": 76,
     "metadata": {},
     "output_type": "execute_result"
    }
   ],
   "source": [
    "def mapper5(row):\n",
    "    yield (row['Zipcode'], int(row['Total']))\n",
    "\n",
    "def reducer5(k2v2):\n",
    "    population, count = k2v2\n",
    "    return (population, sum(count))\n",
    "    \n",
    "with open('Census_2010.csv', 'r') as fi:\n",
    "    reader = csv.DictReader(fi)\n",
    "    output5 = list(mr.run(reader, mapper5, reducer5))\n",
    "\n",
    "output5[:10]"
   ]
  },
  {
   "cell_type": "code",
   "execution_count": 79,
   "metadata": {
    "collapsed": false
   },
   "outputs": [
    {
     "name": "stdout",
     "output_type": "stream",
     "text": [
      "9136\n",
      "54316\n"
     ]
    }
   ],
   "source": [
    "#Creating dictionaries for total complaints and population\n",
    "\n",
    "complaints = {}\n",
    "population = {}\n",
    "\n",
    "for i in output4:\n",
    "    complaints[i[0]] = i[1] \n",
    "    \n",
    "for i in output5:\n",
    "    population[i[0]] = i[1] \n",
    "    \n",
    "print complaints['11216']\n",
    "print population['11216']"
   ]
  },
  {
   "cell_type": "code",
   "execution_count": 114,
   "metadata": {
    "collapsed": false
   },
   "outputs": [
    {
     "data": {
      "text/plain": [
       "0.18174671416287924"
      ]
     },
     "execution_count": 114,
     "metadata": {},
     "output_type": "execute_result"
    }
   ],
   "source": [
    "#Normalizing number of complaints per population\n",
    "\n",
    "normalized = {}\n",
    "zipcodes.remove('10103')\n",
    "\n",
    "for i in zipcodes:\n",
    "    if i in complaints.keys() and i in population.keys() and population[i]>0:\n",
    "        normalized[i] = complaints[i]/float(population[i])\n",
    "    else:\n",
    "        pass\n",
    "    \n",
    "normalized['10002']"
   ]
  },
  {
   "cell_type": "code",
   "execution_count": 118,
   "metadata": {
    "collapsed": false
   },
   "outputs": [
    {
     "data": {
      "text/plain": [
       "[('11697', 0.006128953174797744),\n",
       " ('11005', 0.008305647840531562),\n",
       " ('10475', 0.00955266179668222),\n",
       " ('11239', 0.01060255357276189),\n",
       " ('10044', 0.01646514021095961),\n",
       " ('11691', 0.019072207878737403),\n",
       " ('11429', 0.019956184027086238),\n",
       " ('11040', 0.020229885057471263),\n",
       " ('11427', 0.020896028483024624),\n",
       " ('11360', 0.02097013344630375)]"
      ]
     },
     "execution_count": 118,
     "metadata": {},
     "output_type": "execute_result"
    }
   ],
   "source": [
    "#Creating list of tuples\n",
    "\n",
    "normalized_list = []\n",
    "\n",
    "for i in normalized:\n",
    "    normalized_list.append((i, normalized[i]))\n",
    "    \n",
    "normalized_list.sort(key=operator.itemgetter(1))\n",
    "\n",
    "#Bottom 10 zipcodes (normalized)\n",
    "\n",
    "normalized_list[:10]"
   ]
  },
  {
   "cell_type": "code",
   "execution_count": 120,
   "metadata": {
    "collapsed": false
   },
   "outputs": [
    {
     "data": {
      "text/plain": [
       "[('10014', 0.3307988360086361),\n",
       " ('10013', 0.3572924187725632),\n",
       " ('10005', 0.38009810791871057),\n",
       " ('10001', 0.38839920386693205),\n",
       " ('10036', 0.3889361013313909),\n",
       " ('10007', 0.42658843732112195),\n",
       " ('10012', 0.42743877127438773),\n",
       " ('10004', 0.46487536419553255),\n",
       " ('10006', 0.5423447359681169),\n",
       " ('10018', 0.6550009562057755)]"
      ]
     },
     "execution_count": 120,
     "metadata": {},
     "output_type": "execute_result"
    }
   ],
   "source": [
    "#Top 10 zipcodes (normalized)\n",
    "\n",
    "normalized_list[len(normalized_list)-10:len(normalized_list)]"
   ]
  },
  {
   "cell_type": "code",
   "execution_count": null,
   "metadata": {
    "collapsed": true
   },
   "outputs": [],
   "source": []
  }
 ],
 "metadata": {
  "kernelspec": {
   "display_name": "Python 2",
   "language": "python",
   "name": "python2"
  },
  "language_info": {
   "codemirror_mode": {
    "name": "ipython",
    "version": 2
   },
   "file_extension": ".py",
   "mimetype": "text/x-python",
   "name": "python",
   "nbconvert_exporter": "python",
   "pygments_lexer": "ipython2",
   "version": "2.7.10"
  }
 },
 "nbformat": 4,
 "nbformat_minor": 0
}
