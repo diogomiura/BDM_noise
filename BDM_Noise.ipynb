{
 "cells": [
  {
   "cell_type": "code",
   "execution_count": 1,
   "metadata": {
    "collapsed": false
   },
   "outputs": [],
   "source": [
    "import csv\n",
    "import mapreduce as mr\n",
    "import dateutil\n",
    "from dateutil import parser\n",
    "import operator"
   ]
  },
  {
   "cell_type": "markdown",
   "metadata": {},
   "source": [
    "#1. Weekday"
   ]
  },
  {
   "cell_type": "code",
   "execution_count": 2,
   "metadata": {
    "collapsed": false
   },
   "outputs": [
    {
     "data": {
      "text/plain": [
       "[(('10001', 0), 6),\n",
       " (('10001', 1), 12),\n",
       " (('10001', 2), 8),\n",
       " (('10001', 4), 15),\n",
       " (('10001', 5), 15)]"
      ]
     },
     "execution_count": 2,
     "metadata": {},
     "output_type": "execute_result"
    }
   ],
   "source": [
    "#Calculating sum of complaints per zipcode per weekday\n",
    "\n",
    "def mapper1(row):\n",
    "    weekday = (row['Incident Zip'], dateutil.parser.parse(row['Created Date']).weekday())\n",
    "    yield (weekday, 1)\n",
    "\n",
    "def reducer1(k2v2):\n",
    "    weekday, count = k2v2\n",
    "    return (weekday, sum(count)) \n",
    "\n",
    "with open('noise_test.csv', 'r') as fi:\n",
    "    reader = csv.DictReader(fi)\n",
    "    output1 = list(mr.run(reader, mapper1, reducer1))\n",
    "\n",
    "output1[6:11]"
   ]
  },
  {
   "cell_type": "code",
   "execution_count": 3,
   "metadata": {
    "collapsed": false
   },
   "outputs": [
    {
     "data": {
      "text/plain": [
       "['',\n",
       " '10065',\n",
       " '10453',\n",
       " '10452',\n",
       " '10451',\n",
       " '10457',\n",
       " '10456',\n",
       " '10455',\n",
       " '10454',\n",
       " '10459']"
      ]
     },
     "execution_count": 3,
     "metadata": {},
     "output_type": "execute_result"
    }
   ],
   "source": [
    "#Getting unique zipcodes\n",
    "\n",
    "zipcodes = []\n",
    "\n",
    "for i in output1:\n",
    "    zipcodes.append(i[0][0])\n",
    "    \n",
    "zipcodes = list(set(zipcodes))\n",
    "\n",
    "zipcodes[:10]"
   ]
  },
  {
   "cell_type": "code",
   "execution_count": 4,
   "metadata": {
    "collapsed": false
   },
   "outputs": [
    {
     "data": {
      "text/plain": [
       "[(0, 7), (1, 9), (2, 10), (4, 26), (5, 30), (6, 20)]"
      ]
     },
     "execution_count": 4,
     "metadata": {},
     "output_type": "execute_result"
    }
   ],
   "source": [
    "#Creating dictionaries for each zipcode\n",
    "\n",
    "weekday = {}\n",
    "\n",
    "for i in zipcodes:\n",
    "    weekday[i] = []\n",
    "    \n",
    "for i in output1:\n",
    "    weekday[i[0][0]].append(((i[0][1]), i[1]))\n",
    "    \n",
    "weekday['11216']"
   ]
  },
  {
   "cell_type": "markdown",
   "metadata": {},
   "source": [
    "#2. Hour"
   ]
  },
  {
   "cell_type": "code",
   "execution_count": 5,
   "metadata": {
    "collapsed": false
   },
   "outputs": [
    {
     "data": {
      "text/plain": [
       "[(('10001', 0), 8),\n",
       " (('10001', 1), 7),\n",
       " (('10001', 2), 5),\n",
       " (('10001', 4), 2),\n",
       " (('10001', 6), 1)]"
      ]
     },
     "execution_count": 5,
     "metadata": {},
     "output_type": "execute_result"
    }
   ],
   "source": [
    "#Calculating sum of complaints per zipcode per hour\n",
    "\n",
    "def mapper1(row):\n",
    "    hour = (row['Incident Zip'], dateutil.parser.parse(row['Created Date']).hour)\n",
    "    yield (hour, 1)\n",
    "\n",
    "def reducer1(k2v2):\n",
    "    hour, count = k2v2\n",
    "    return (hour, sum(count)) \n",
    "\n",
    "with open('noise_test.csv', 'r') as fi:\n",
    "    reader = csv.DictReader(fi)\n",
    "    output2 = list(mr.run(reader, mapper1, reducer1))\n",
    "\n",
    "output2[15:20]"
   ]
  },
  {
   "cell_type": "code",
   "execution_count": 6,
   "metadata": {
    "collapsed": false
   },
   "outputs": [
    {
     "data": {
      "text/plain": [
       "[(0, 10),\n",
       " (1, 23),\n",
       " (2, 4),\n",
       " (3, 8),\n",
       " (4, 3),\n",
       " (5, 1),\n",
       " (7, 4),\n",
       " (9, 3),\n",
       " (10, 1),\n",
       " (11, 4),\n",
       " (12, 1),\n",
       " (14, 1),\n",
       " (16, 3),\n",
       " (17, 3),\n",
       " (18, 2),\n",
       " (19, 6),\n",
       " (20, 3),\n",
       " (21, 6),\n",
       " (22, 3),\n",
       " (23, 13)]"
      ]
     },
     "execution_count": 6,
     "metadata": {},
     "output_type": "execute_result"
    }
   ],
   "source": [
    "#Creating dictionaries for each zipcode\n",
    "\n",
    "hour = {}\n",
    "\n",
    "for i in zipcodes:\n",
    "    hour[i] = []\n",
    "    \n",
    "for i in output2:\n",
    "    hour[i[0][0]].append(((i[0][1]), i[1]))\n",
    "    \n",
    "hour['11216']"
   ]
  },
  {
   "cell_type": "markdown",
   "metadata": {},
   "source": [
    "#3. Descriptor"
   ]
  },
  {
   "cell_type": "code",
   "execution_count": 7,
   "metadata": {
    "collapsed": false
   },
   "outputs": [
    {
     "data": {
      "text/plain": [
       "[(('10001', 'Banging/Pounding'), 9),\n",
       " (('10001', 'Car/Truck Horn'), 1),\n",
       " (('10001', 'Car/Truck Music'), 1),\n",
       " (('10001', 'Engine Idling'), 2),\n",
       " (('10001', 'Loud Music/Party'), 11)]"
      ]
     },
     "execution_count": 7,
     "metadata": {},
     "output_type": "execute_result"
    }
   ],
   "source": [
    "#Calculating sum of complaints per zipcode per descriptor\n",
    "\n",
    "def mapper3(row):\n",
    "    descriptor = (row['Incident Zip'], row['Descriptor'])\n",
    "    yield (descriptor, 1)\n",
    "\n",
    "def reducer3(k2v2):\n",
    "    descriptor, count = k2v2\n",
    "    return (descriptor, sum(count)) \n",
    "\n",
    "with open('noise_test.csv', 'r') as fi:\n",
    "    reader = csv.DictReader(fi)\n",
    "    output3 = list(mr.run(reader, mapper3, reducer3))\n",
    "\n",
    "output3[7:12]"
   ]
  },
  {
   "cell_type": "code",
   "execution_count": 8,
   "metadata": {
    "collapsed": false
   },
   "outputs": [
    {
     "data": {
      "text/plain": [
       "[('Noise: Construction Before/After Hours (NM1)', 6), ('Loud Music/Party', 1)]"
      ]
     },
     "execution_count": 8,
     "metadata": {},
     "output_type": "execute_result"
    }
   ],
   "source": [
    "# Creating dictionaries for each zipcode\n",
    "\n",
    "descriptor = {}\n",
    "\n",
    "for i in zipcodes:\n",
    "    descriptor[i] = []\n",
    "    \n",
    "for i in output3:\n",
    "    descriptor[i[0][0]].append(((i[0][1]), i[1]))\n",
    "\n",
    "#Extracting top 5 complaints per zipcode \n",
    "\n",
    "for i in zipcodes:\n",
    "    descriptor[i].sort(key=operator.itemgetter(1), reverse=True)\n",
    "    descriptor[i] = descriptor[i][:5]\n",
    "    \n",
    "descriptor['10005']"
   ]
  },
  {
   "cell_type": "markdown",
   "metadata": {},
   "source": [
    "#4. Total complaints (+ bottom 10/top 10)"
   ]
  },
  {
   "cell_type": "code",
   "execution_count": 9,
   "metadata": {
    "collapsed": false
   },
   "outputs": [
    {
     "data": {
      "text/plain": [
       "[('', 25), ('10001', 65), ('10002', 107), ('10003', 84), ('10004', 5)]"
      ]
     },
     "execution_count": 9,
     "metadata": {},
     "output_type": "execute_result"
    }
   ],
   "source": [
    "#Calculating sum of complaints per zipcode per hour\n",
    "\n",
    "def mapper4(row):\n",
    "    zipcode = row['Incident Zip']\n",
    "    yield (zipcode, 1)\n",
    "\n",
    "def reducer4(k2v2):\n",
    "    zipcode, count = k2v2\n",
    "    return (zipcode, sum(count)) \n",
    "\n",
    "with open('noise_test.csv', 'r') as fi:\n",
    "    reader = csv.DictReader(fi)\n",
    "    output4 = list(mr.run(reader, mapper4, reducer4))\n",
    "\n",
    "output4[:5]"
   ]
  },
  {
   "cell_type": "code",
   "execution_count": 10,
   "metadata": {
    "collapsed": false
   },
   "outputs": [
    {
     "data": {
      "text/plain": [
       "[('10282', 1),\n",
       " ('11363', 1),\n",
       " ('11426', 1),\n",
       " ('10044', 2),\n",
       " ('10464', 2),\n",
       " ('11109', 2),\n",
       " ('11357', 2),\n",
       " ('11364', 2),\n",
       " ('11413', 2),\n",
       " ('11239', 3)]"
      ]
     },
     "execution_count": 10,
     "metadata": {},
     "output_type": "execute_result"
    }
   ],
   "source": [
    "#Ordering zipcodes by number of noise complaints\n",
    "\n",
    "output4.sort(key=operator.itemgetter(1))\n",
    "\n",
    "#Zipcodes with the least complaints\n",
    "\n",
    "output4[:10]"
   ]
  },
  {
   "cell_type": "code",
   "execution_count": 11,
   "metadata": {
    "collapsed": false
   },
   "outputs": [
    {
     "data": {
      "text/plain": [
       "[('11211', 103),\n",
       " ('10002', 107),\n",
       " ('10029', 107),\n",
       " ('10467', 110),\n",
       " ('10009', 120),\n",
       " ('10034', 128),\n",
       " ('11226', 140),\n",
       " ('10031', 141),\n",
       " ('11238', 143),\n",
       " ('10040', 148)]"
      ]
     },
     "execution_count": 11,
     "metadata": {},
     "output_type": "execute_result"
    }
   ],
   "source": [
    "#Zipcodes with the most complaints\n",
    "\n",
    "output4[len(output4)-10:len(output4)]"
   ]
  },
  {
   "cell_type": "markdown",
   "metadata": {},
   "source": [
    "#5. Normalized complaints (+ bottom 10/top 10)"
   ]
  },
  {
   "cell_type": "code",
   "execution_count": 12,
   "metadata": {
    "collapsed": false
   },
   "outputs": [
    {
     "data": {
      "text/plain": [
       "[('10001', 21102),\n",
       " ('10002', 81410),\n",
       " ('10003', 56024),\n",
       " ('10004', 3089),\n",
       " ('10005', 7135),\n",
       " ('10006', 3011),\n",
       " ('10007', 6988),\n",
       " ('10009', 61347),\n",
       " ('10010', 31834),\n",
       " ('10011', 50984)]"
      ]
     },
     "execution_count": 12,
     "metadata": {},
     "output_type": "execute_result"
    }
   ],
   "source": [
    "def mapper5(row):\n",
    "    yield (row['Zipcode'], int(row['Total']))\n",
    "\n",
    "def reducer5(k2v2):\n",
    "    population, count = k2v2\n",
    "    return (population, sum(count))\n",
    "    \n",
    "with open('Census_2010.csv', 'r') as fi:\n",
    "    reader = csv.DictReader(fi)\n",
    "    output5 = list(mr.run(reader, mapper5, reducer5))\n",
    "\n",
    "output5[:10]"
   ]
  },
  {
   "cell_type": "code",
   "execution_count": 13,
   "metadata": {
    "collapsed": false
   },
   "outputs": [
    {
     "name": "stdout",
     "output_type": "stream",
     "text": [
      "102\n",
      "54316\n"
     ]
    }
   ],
   "source": [
    "#Creating dictionaries for total complaints and population\n",
    "\n",
    "complaints = {}\n",
    "population = {}\n",
    "\n",
    "for i in output4:\n",
    "    complaints[i[0]] = i[1] \n",
    "    \n",
    "for i in output5:\n",
    "    population[i[0]] = i[1] \n",
    "    \n",
    "print complaints['11216']\n",
    "print population['11216']"
   ]
  },
  {
   "cell_type": "code",
   "execution_count": 14,
   "metadata": {
    "collapsed": false
   },
   "outputs": [
    {
     "data": {
      "text/plain": [
       "0.0013143348482987348"
      ]
     },
     "execution_count": 14,
     "metadata": {},
     "output_type": "execute_result"
    }
   ],
   "source": [
    "#Normalizing number of complaints per population\n",
    "\n",
    "normalized = {}\n",
    "\n",
    "for i in zipcodes:\n",
    "    if i in complaints.keys() and i in population.keys() and population[i]>0:\n",
    "        normalized[i] = complaints[i]/float(population[i])\n",
    "    else:\n",
    "        pass\n",
    "    \n",
    "normalized['10002']"
   ]
  },
  {
   "cell_type": "code",
   "execution_count": 15,
   "metadata": {
    "collapsed": false
   },
   "outputs": [
    {
     "data": {
      "text/plain": [
       "[('11357', 5.108556832694764e-05),\n",
       " ('11413', 5.139802631578947e-05),\n",
       " ('11426', 5.6850483229107444e-05),\n",
       " ('11364', 5.787874403125452e-05),\n",
       " ('10312', 8.431134493457439e-05),\n",
       " ('11422', 9.860312243221036e-05),\n",
       " ('11412', 0.00011467232383464251),\n",
       " ('10475', 0.0001221568004690821),\n",
       " ('10309', 0.00012300501245425752),\n",
       " ('11363', 0.00014310246136233542)]"
      ]
     },
     "execution_count": 15,
     "metadata": {},
     "output_type": "execute_result"
    }
   ],
   "source": [
    "#Creating list of tuples\n",
    "\n",
    "normalized_list = []\n",
    "\n",
    "for i in normalized:\n",
    "    normalized_list.append((i, normalized[i]))\n",
    "    \n",
    "normalized_list.sort(key=operator.itemgetter(1))\n",
    "\n",
    "#Bottom 10 zipcodes (normalized)\n",
    "\n",
    "normalized_list[:10]"
   ]
  },
  {
   "cell_type": "code",
   "execution_count": 16,
   "metadata": {
    "collapsed": false
   },
   "outputs": [
    {
     "data": {
      "text/plain": [
       "[('10065', 0.002200185931205454),\n",
       " ('10030', 0.00233341975628727),\n",
       " ('10031', 0.0024983167369502816),\n",
       " ('10014', 0.002878688319409243),\n",
       " ('11238', 0.0029028460070642686),\n",
       " ('10001', 0.0030802767510188607),\n",
       " ('10039', 0.0031393973987850123),\n",
       " ('10034', 0.0032898118638840343),\n",
       " ('10040', 0.003531798114783439),\n",
       " ('10006', 0.009631351710395218)]"
      ]
     },
     "execution_count": 16,
     "metadata": {},
     "output_type": "execute_result"
    }
   ],
   "source": [
    "#Top 10 zipcodes (normalized)\n",
    "\n",
    "normalized_list[len(normalized_list)-10:len(normalized_list)]"
   ]
  },
  {
   "cell_type": "markdown",
   "metadata": {
    "collapsed": true
   },
   "source": [
    "#6. Construction time"
   ]
  },
  {
   "cell_type": "code",
   "execution_count": 17,
   "metadata": {
    "collapsed": false
   },
   "outputs": [
    {
     "data": {
      "text/plain": [
       "[(('', 'Loud Music/Party', 7), 1),\n",
       " (('', 'Loud Music/Party', 12), 1),\n",
       " (('', 'Loud Music/Party', 18), 1),\n",
       " (('', 'Loud Music/Party', 21), 1),\n",
       " (('', 'Loud Music/Party', 22), 2)]"
      ]
     },
     "execution_count": 17,
     "metadata": {},
     "output_type": "execute_result"
    }
   ],
   "source": [
    "#Calculating sum of complaints per zipcode per descriptor/hour\n",
    "\n",
    "def mapper6(row):\n",
    "    descriptor = (row['Incident Zip'], row['Descriptor'], dateutil.parser.parse(row['Created Date']).hour)\n",
    "    yield (descriptor, 1)\n",
    "\n",
    "def reducer6(k2v2):\n",
    "    descriptor, count = k2v2\n",
    "    return (descriptor, sum(count)) \n",
    "\n",
    "with open('noise_test.csv', 'r') as fi:\n",
    "    reader = csv.DictReader(fi)\n",
    "    output6 = list(mr.run(reader, mapper6, reducer6))\n",
    "\n",
    "output6[7:12]"
   ]
  },
  {
   "cell_type": "code",
   "execution_count": 18,
   "metadata": {
    "collapsed": false
   },
   "outputs": [
    {
     "data": {
      "text/plain": [
       "[(('', 'Noise: Construction Before/After Hours (NM1)', 16), 1),\n",
       " (('10001', 'Noise: Construction Before/After Hours (NM1)', 8), 2),\n",
       " (('10001', 'Noise: Construction Before/After Hours (NM1)', 9), 1),\n",
       " (('10001', 'Noise: Construction Before/After Hours (NM1)', 10), 2),\n",
       " (('10001', 'Noise: Construction Before/After Hours (NM1)', 13), 1),\n",
       " (('10001', 'Noise: Construction Equipment (NC1)', 11), 4),\n",
       " (('10001', 'Noise: Construction Equipment (NC1)', 14), 1),\n",
       " (('10002', 'Noise: Construction Before/After Hours (NM1)', 9), 1),\n",
       " (('10003', 'Noise: Construction Before/After Hours (NM1)', 8), 2),\n",
       " (('10003', 'Noise: Construction Before/After Hours (NM1)', 13), 1),\n",
       " (('10003', 'Noise: Construction Before/After Hours (NM1)', 17), 1),\n",
       " (('10003', 'Noise: Construction Equipment (NC1)', 9), 1),\n",
       " (('10003', 'Noise: Construction Equipment (NC1)', 15), 1),\n",
       " (('10004', 'Noise: Construction Before/After Hours (NM1)', 8), 1),\n",
       " (('10005', 'Noise: Construction Before/After Hours (NM1)', 10), 2),\n",
       " (('10006', 'Noise: Construction Before/After Hours (NM1)', 8), 2),\n",
       " (('10006', 'Noise: Construction Before/After Hours (NM1)', 13), 1),\n",
       " (('10006', 'Noise: Construction Before/After Hours (NM1)', 14), 2),\n",
       " (('10007', 'Noise: Construction Before/After Hours (NM1)', 8), 1),\n",
       " (('10007', 'Noise: Construction Before/After Hours (NM1)', 11), 1)]"
      ]
     },
     "execution_count": 18,
     "metadata": {},
     "output_type": "execute_result"
    }
   ],
   "source": [
    "#Filtering output for construction noise and for illegal hours\n",
    "output6_1 = filter(lambda x: ('Construction' in x[0][1]) and (7 < x[0][2] <18), output6)\n",
    "output6_1[:20]"
   ]
  },
  {
   "cell_type": "code",
   "execution_count": 19,
   "metadata": {
    "collapsed": false
   },
   "outputs": [
    {
     "data": {
      "text/plain": [
       "[('', 1),\n",
       " ('10001', 2),\n",
       " ('10001', 1),\n",
       " ('10001', 2),\n",
       " ('10001', 1),\n",
       " ('10001', 4),\n",
       " ('10001', 1),\n",
       " ('10002', 1),\n",
       " ('10003', 2),\n",
       " ('10003', 1),\n",
       " ('10003', 1),\n",
       " ('10003', 1),\n",
       " ('10003', 1),\n",
       " ('10004', 1),\n",
       " ('10005', 2),\n",
       " ('10006', 2),\n",
       " ('10006', 1),\n",
       " ('10006', 2),\n",
       " ('10007', 1),\n",
       " ('10007', 1),\n",
       " ('10007', 1),\n",
       " ('10009', 1),\n",
       " ('10009', 1),\n",
       " ('10009', 1),\n",
       " ('10009', 1),\n",
       " ('10009', 1),\n",
       " ('10010', 1),\n",
       " ('10010', 5),\n",
       " ('10010', 1),\n",
       " ('10010', 2),\n",
       " ('10010', 1),\n",
       " ('10010', 1),\n",
       " ('10010', 2),\n",
       " ('10010', 1),\n",
       " ('10010', 2),\n",
       " ('10010', 1),\n",
       " ('10011', 1),\n",
       " ('10011', 1),\n",
       " ('10011', 1),\n",
       " ('10012', 2),\n",
       " ('10012', 1),\n",
       " ('10013', 1),\n",
       " ('10013', 1),\n",
       " ('10013', 1),\n",
       " ('10013', 1),\n",
       " ('10014', 3),\n",
       " ('10014', 2),\n",
       " ('10014', 1),\n",
       " ('10014', 1),\n",
       " ('10014', 1),\n",
       " ('10014', 1),\n",
       " ('10014', 1),\n",
       " ('10016', 2),\n",
       " ('10016', 1),\n",
       " ('10016', 3),\n",
       " ('10016', 1),\n",
       " ('10016', 1),\n",
       " ('10016', 1),\n",
       " ('10016', 1),\n",
       " ('10016', 1),\n",
       " ('10016', 1),\n",
       " ('10016', 1),\n",
       " ('10017', 1),\n",
       " ('10017', 1),\n",
       " ('10017', 3),\n",
       " ('10017', 1),\n",
       " ('10019', 1),\n",
       " ('10019', 1),\n",
       " ('10019', 1),\n",
       " ('10019', 1),\n",
       " ('10019', 1),\n",
       " ('10021', 1),\n",
       " ('10021', 1),\n",
       " ('10022', 2),\n",
       " ('10022', 1),\n",
       " ('10023', 1),\n",
       " ('10023', 1),\n",
       " ('10024', 3),\n",
       " ('10024', 4),\n",
       " ('10024', 1),\n",
       " ('10025', 1),\n",
       " ('10025', 1),\n",
       " ('10025', 1),\n",
       " ('10026', 1),\n",
       " ('10026', 1),\n",
       " ('10026', 1),\n",
       " ('10027', 1),\n",
       " ('10028', 1),\n",
       " ('10028', 2),\n",
       " ('10028', 1),\n",
       " ('10029', 1),\n",
       " ('10030', 1),\n",
       " ('10033', 1),\n",
       " ('10034', 1),\n",
       " ('10034', 1),\n",
       " ('10034', 1),\n",
       " ('10036', 2),\n",
       " ('10036', 1),\n",
       " ('10038', 1),\n",
       " ('10038', 1),\n",
       " ('10038', 1),\n",
       " ('10065', 1),\n",
       " ('10065', 1),\n",
       " ('10065', 1),\n",
       " ('10065', 1),\n",
       " ('10065', 1),\n",
       " ('10065', 1),\n",
       " ('10065', 1),\n",
       " ('10065', 3),\n",
       " ('10065', 1),\n",
       " ('10065', 1),\n",
       " ('10065', 1),\n",
       " ('10128', 1),\n",
       " ('10128', 1),\n",
       " ('10128', 1),\n",
       " ('10128', 2),\n",
       " ('10128', 2),\n",
       " ('10306', 1),\n",
       " ('10314', 1),\n",
       " ('10452', 1),\n",
       " ('10453', 1),\n",
       " ('10455', 1),\n",
       " ('10455', 1),\n",
       " ('10462', 1),\n",
       " ('10462', 2),\n",
       " ('10467', 1),\n",
       " ('10469', 1),\n",
       " ('10470', 1),\n",
       " ('10471', 3),\n",
       " ('10471', 1),\n",
       " ('10471', 1),\n",
       " ('10471', 1),\n",
       " ('11101', 2),\n",
       " ('11101', 1),\n",
       " ('11102', 1),\n",
       " ('11102', 1),\n",
       " ('11104', 1),\n",
       " ('11105', 1),\n",
       " ('11106', 1),\n",
       " ('11106', 1),\n",
       " ('11201', 2),\n",
       " ('11201', 1),\n",
       " ('11201', 1),\n",
       " ('11201', 1),\n",
       " ('11201', 1),\n",
       " ('11201', 1),\n",
       " ('11203', 1),\n",
       " ('11204', 3),\n",
       " ('11205', 1),\n",
       " ('11205', 1),\n",
       " ('11206', 1),\n",
       " ('11208', 1),\n",
       " ('11209', 1),\n",
       " ('11211', 1),\n",
       " ('11211', 1),\n",
       " ('11211', 1),\n",
       " ('11213', 1),\n",
       " ('11213', 1),\n",
       " ('11213', 1),\n",
       " ('11214', 1),\n",
       " ('11215', 4),\n",
       " ('11215', 1),\n",
       " ('11215', 1),\n",
       " ('11215', 1),\n",
       " ('11215', 1),\n",
       " ('11216', 1),\n",
       " ('11216', 1),\n",
       " ('11217', 3),\n",
       " ('11217', 3),\n",
       " ('11217', 2),\n",
       " ('11217', 3),\n",
       " ('11217', 1),\n",
       " ('11217', 1),\n",
       " ('11217', 1),\n",
       " ('11218', 1),\n",
       " ('11218', 1),\n",
       " ('11220', 2),\n",
       " ('11220', 1),\n",
       " ('11221', 1),\n",
       " ('11221', 1),\n",
       " ('11221', 1),\n",
       " ('11221', 1),\n",
       " ('11221', 1),\n",
       " ('11222', 1),\n",
       " ('11225', 1),\n",
       " ('11228', 1),\n",
       " ('11229', 2),\n",
       " ('11229', 1),\n",
       " ('11229', 3),\n",
       " ('11229', 1),\n",
       " ('11230', 1),\n",
       " ('11230', 1),\n",
       " ('11231', 2),\n",
       " ('11233', 1),\n",
       " ('11233', 1),\n",
       " ('11234', 1),\n",
       " ('11235', 1),\n",
       " ('11236', 1),\n",
       " ('11237', 1),\n",
       " ('11237', 1),\n",
       " ('11238', 1),\n",
       " ('11238', 1),\n",
       " ('11238', 1),\n",
       " ('11238', 1),\n",
       " ('11238', 1),\n",
       " ('11238', 1),\n",
       " ('11249', 1),\n",
       " ('11249', 1),\n",
       " ('11354', 1),\n",
       " ('11354', 1),\n",
       " ('11354', 1),\n",
       " ('11355', 1),\n",
       " ('11355', 1),\n",
       " ('11355', 2),\n",
       " ('11362', 1),\n",
       " ('11370', 1),\n",
       " ('11372', 1),\n",
       " ('11375', 1),\n",
       " ('11377', 1),\n",
       " ('11378', 1),\n",
       " ('11378', 1),\n",
       " ('11379', 1),\n",
       " ('11385', 1),\n",
       " ('11385', 2),\n",
       " ('11385', 1),\n",
       " ('11385', 1),\n",
       " ('11385', 1),\n",
       " ('11411', 1),\n",
       " ('11417', 1),\n",
       " ('11418', 1),\n",
       " ('11429', 1),\n",
       " ('11432', 1),\n",
       " ('11432', 1),\n",
       " ('11436', 1)]"
      ]
     },
     "execution_count": 19,
     "metadata": {},
     "output_type": "execute_result"
    }
   ],
   "source": [
    "#Getting just zipcode and total of illegal complaints\n",
    "output6_2 = map(lambda x: (x[0][0], x[1]), output6_1)\n",
    "output6_2"
   ]
  },
  {
   "cell_type": "code",
   "execution_count": 22,
   "metadata": {
    "collapsed": false
   },
   "outputs": [
    {
     "data": {
      "text/plain": [
       "19.607843137254903"
      ]
     },
     "execution_count": 22,
     "metadata": {},
     "output_type": "execute_result"
    }
   ],
   "source": [
    "construction = {}\n",
    "norm_construction = {}\n",
    "\n",
    "for i in zipcodes:\n",
    "    construction[i] = []\n",
    "    \n",
    "for i in output6_2:\n",
    "    construction[i[0]].append(i[1])\n",
    "    \n",
    "for i in construction.keys():\n",
    "    norm_construction[i] = sum(construction[i])/float(complaints[i])*1000\n",
    "    \n",
    "norm_construction['11216']"
   ]
  },
  {
   "cell_type": "code",
   "execution_count": 27,
   "metadata": {
    "collapsed": false
   },
   "outputs": [
    {
     "ename": "NameError",
     "evalue": "name 'mean' is not defined",
     "output_type": "error",
     "traceback": [
      "\u001b[0;31m---------------------------------------------------------------------------\u001b[0m",
      "\u001b[0;31mNameError\u001b[0m                                 Traceback (most recent call last)",
      "\u001b[0;32m<ipython-input-27-4643645f39b4>\u001b[0m in \u001b[0;36m<module>\u001b[0;34m()\u001b[0m\n\u001b[0;32m----> 1\u001b[0;31m \u001b[0mmean\u001b[0m\u001b[0;34m(\u001b[0m\u001b[0mnorm_construction\u001b[0m\u001b[0;34m.\u001b[0m\u001b[0mvalues\u001b[0m\u001b[0;34m(\u001b[0m\u001b[0;34m)\u001b[0m\u001b[0;34m)\u001b[0m\u001b[0;34m\u001b[0m\u001b[0m\n\u001b[0m",
      "\u001b[0;31mNameError\u001b[0m: name 'mean' is not defined"
     ]
    }
   ],
   "source": [
    "mean(norm_construction.values())"
   ]
  },
  {
   "cell_type": "code",
   "execution_count": null,
   "metadata": {
    "collapsed": true
   },
   "outputs": [],
   "source": []
  }
 ],
 "metadata": {
  "kernelspec": {
   "display_name": "Python 2",
   "language": "python",
   "name": "python2"
  },
  "language_info": {
   "codemirror_mode": {
    "name": "ipython",
    "version": 2
   },
   "file_extension": ".py",
   "mimetype": "text/x-python",
   "name": "python",
   "nbconvert_exporter": "python",
   "pygments_lexer": "ipython2",
   "version": "2.7.10"
  }
 },
 "nbformat": 4,
 "nbformat_minor": 0
}
