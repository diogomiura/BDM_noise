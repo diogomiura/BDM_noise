{
 "cells": [
  {
   "cell_type": "code",
   "execution_count": 3,
   "metadata": {
    "collapsed": false
   },
   "outputs": [],
   "source": [
    "import csv\n",
    "import mapreduce as mr\n",
    "import dateutil\n",
    "from dateutil import parser"
   ]
  },
  {
   "cell_type": "code",
   "execution_count": 10,
   "metadata": {
    "collapsed": false
   },
   "outputs": [
    {
     "data": {
      "text/html": [
       "<div>\n",
       "<table border=\"1\" class=\"dataframe\">\n",
       "  <thead>\n",
       "    <tr style=\"text-align: right;\">\n",
       "      <th></th>\n",
       "      <th>Unique Key</th>\n",
       "      <th>Created Date</th>\n",
       "      <th>Closed Date</th>\n",
       "      <th>Agency</th>\n",
       "      <th>Agency Name</th>\n",
       "      <th>Complaint Type</th>\n",
       "      <th>Descriptor</th>\n",
       "      <th>Location Type</th>\n",
       "      <th>Incident Zip</th>\n",
       "      <th>Incident Address</th>\n",
       "      <th>Status</th>\n",
       "      <th>Due Date</th>\n",
       "      <th>Resolution Description</th>\n",
       "      <th>X Coordinate (State Plane)</th>\n",
       "      <th>Y Coordinate (State Plane)</th>\n",
       "      <th>Latitude</th>\n",
       "      <th>Longitude</th>\n",
       "      <th>Location</th>\n",
       "    </tr>\n",
       "  </thead>\n",
       "  <tbody>\n",
       "    <tr>\n",
       "      <th>0</th>\n",
       "      <td>33047245</td>\n",
       "      <td>04/03/2016 02:11:01 AM</td>\n",
       "      <td>NaN</td>\n",
       "      <td>NYPD</td>\n",
       "      <td>New York City Police Department</td>\n",
       "      <td>Noise - Street/Sidewalk</td>\n",
       "      <td>Loud Music/Party</td>\n",
       "      <td>Street/Sidewalk</td>\n",
       "      <td>10032</td>\n",
       "      <td>558 WEST 164 STREET</td>\n",
       "      <td>Open</td>\n",
       "      <td>04/03/2016 10:11:01 AM</td>\n",
       "      <td>Your complaint has been forwarded to the New Y...</td>\n",
       "      <td>1000650</td>\n",
       "      <td>244594</td>\n",
       "      <td>40.838014</td>\n",
       "      <td>-73.940731</td>\n",
       "      <td>(40.83801407976737, -73.94073148488742)</td>\n",
       "    </tr>\n",
       "    <tr>\n",
       "      <th>1</th>\n",
       "      <td>33047210</td>\n",
       "      <td>04/03/2016 02:08:59 AM</td>\n",
       "      <td>NaN</td>\n",
       "      <td>NYPD</td>\n",
       "      <td>New York City Police Department</td>\n",
       "      <td>Noise - Commercial</td>\n",
       "      <td>Loud Music/Party</td>\n",
       "      <td>Club/Bar/Restaurant</td>\n",
       "      <td>10009</td>\n",
       "      <td>NaN</td>\n",
       "      <td>Open</td>\n",
       "      <td>04/03/2016 10:08:59 AM</td>\n",
       "      <td>Your complaint has been forwarded to the New Y...</td>\n",
       "      <td>987457</td>\n",
       "      <td>202780</td>\n",
       "      <td>40.723260</td>\n",
       "      <td>-73.988430</td>\n",
       "      <td>(40.723260387178414, -73.98843007160804)</td>\n",
       "    </tr>\n",
       "    <tr>\n",
       "      <th>2</th>\n",
       "      <td>33043665</td>\n",
       "      <td>04/03/2016 02:07:15 AM</td>\n",
       "      <td>NaN</td>\n",
       "      <td>NYPD</td>\n",
       "      <td>New York City Police Department</td>\n",
       "      <td>Noise - Street/Sidewalk</td>\n",
       "      <td>Loud Music/Party</td>\n",
       "      <td>Street/Sidewalk</td>\n",
       "      <td>11229</td>\n",
       "      <td>1864 EAST 14 STREET</td>\n",
       "      <td>Open</td>\n",
       "      <td>04/03/2016 10:07:15 AM</td>\n",
       "      <td>Your complaint has been forwarded to the New Y...</td>\n",
       "      <td>995802</td>\n",
       "      <td>159441</td>\n",
       "      <td>40.604298</td>\n",
       "      <td>-73.958398</td>\n",
       "      <td>(40.604297503438865, -73.9583979847671)</td>\n",
       "    </tr>\n",
       "    <tr>\n",
       "      <th>3</th>\n",
       "      <td>33042520</td>\n",
       "      <td>04/03/2016 02:05:23 AM</td>\n",
       "      <td>NaN</td>\n",
       "      <td>NYPD</td>\n",
       "      <td>New York City Police Department</td>\n",
       "      <td>Noise - Commercial</td>\n",
       "      <td>Loud Music/Party</td>\n",
       "      <td>Store/Commercial</td>\n",
       "      <td>11206</td>\n",
       "      <td>145 MANHATTAN AVENUE</td>\n",
       "      <td>Assigned</td>\n",
       "      <td>04/03/2016 10:05:23 AM</td>\n",
       "      <td>Your complaint has been received by the Police...</td>\n",
       "      <td>999498</td>\n",
       "      <td>197152</td>\n",
       "      <td>40.707800</td>\n",
       "      <td>-73.945002</td>\n",
       "      <td>(40.707800316637616, -73.94500238123231)</td>\n",
       "    </tr>\n",
       "    <tr>\n",
       "      <th>4</th>\n",
       "      <td>33042106</td>\n",
       "      <td>04/03/2016 02:05:16 AM</td>\n",
       "      <td>04/03/2016 02:44:44 AM</td>\n",
       "      <td>NYPD</td>\n",
       "      <td>New York City Police Department</td>\n",
       "      <td>Noise - Commercial</td>\n",
       "      <td>Loud Music/Party</td>\n",
       "      <td>Store/Commercial</td>\n",
       "      <td>11234</td>\n",
       "      <td>2192 FLATBUSH AVENUE</td>\n",
       "      <td>Closed</td>\n",
       "      <td>04/03/2016 10:05:16 AM</td>\n",
       "      <td>The Police Department responded to the complai...</td>\n",
       "      <td>1003628</td>\n",
       "      <td>163910</td>\n",
       "      <td>40.616550</td>\n",
       "      <td>-73.930202</td>\n",
       "      <td>(40.61655032892211, -73.93020153359745)</td>\n",
       "    </tr>\n",
       "  </tbody>\n",
       "</table>\n",
       "</div>"
      ],
      "text/plain": [
       "   Unique Key            Created Date             Closed Date Agency  \\\n",
       "0    33047245  04/03/2016 02:11:01 AM                     NaN   NYPD   \n",
       "1    33047210  04/03/2016 02:08:59 AM                     NaN   NYPD   \n",
       "2    33043665  04/03/2016 02:07:15 AM                     NaN   NYPD   \n",
       "3    33042520  04/03/2016 02:05:23 AM                     NaN   NYPD   \n",
       "4    33042106  04/03/2016 02:05:16 AM  04/03/2016 02:44:44 AM   NYPD   \n",
       "\n",
       "                       Agency Name           Complaint Type        Descriptor  \\\n",
       "0  New York City Police Department  Noise - Street/Sidewalk  Loud Music/Party   \n",
       "1  New York City Police Department       Noise - Commercial  Loud Music/Party   \n",
       "2  New York City Police Department  Noise - Street/Sidewalk  Loud Music/Party   \n",
       "3  New York City Police Department       Noise - Commercial  Loud Music/Party   \n",
       "4  New York City Police Department       Noise - Commercial  Loud Music/Party   \n",
       "\n",
       "         Location Type  Incident Zip      Incident Address    Status  \\\n",
       "0      Street/Sidewalk         10032   558 WEST 164 STREET      Open   \n",
       "1  Club/Bar/Restaurant         10009                   NaN      Open   \n",
       "2      Street/Sidewalk         11229   1864 EAST 14 STREET      Open   \n",
       "3     Store/Commercial         11206  145 MANHATTAN AVENUE  Assigned   \n",
       "4     Store/Commercial         11234  2192 FLATBUSH AVENUE    Closed   \n",
       "\n",
       "                 Due Date                             Resolution Description  \\\n",
       "0  04/03/2016 10:11:01 AM  Your complaint has been forwarded to the New Y...   \n",
       "1  04/03/2016 10:08:59 AM  Your complaint has been forwarded to the New Y...   \n",
       "2  04/03/2016 10:07:15 AM  Your complaint has been forwarded to the New Y...   \n",
       "3  04/03/2016 10:05:23 AM  Your complaint has been received by the Police...   \n",
       "4  04/03/2016 10:05:16 AM  The Police Department responded to the complai...   \n",
       "\n",
       "   X Coordinate (State Plane)  Y Coordinate (State Plane)   Latitude  \\\n",
       "0                     1000650                      244594  40.838014   \n",
       "1                      987457                      202780  40.723260   \n",
       "2                      995802                      159441  40.604298   \n",
       "3                      999498                      197152  40.707800   \n",
       "4                     1003628                      163910  40.616550   \n",
       "\n",
       "   Longitude                                  Location  \n",
       "0 -73.940731   (40.83801407976737, -73.94073148488742)  \n",
       "1 -73.988430  (40.723260387178414, -73.98843007160804)  \n",
       "2 -73.958398   (40.604297503438865, -73.9583979847671)  \n",
       "3 -73.945002  (40.707800316637616, -73.94500238123231)  \n",
       "4 -73.930202   (40.61655032892211, -73.93020153359745)  "
      ]
     },
     "execution_count": 10,
     "metadata": {},
     "output_type": "execute_result"
    }
   ],
   "source": [
    "#Loading data\n",
    "\n",
    "data = pd.read_csv('311_noise.csv')\n",
    "data.head()"
   ]
  },
  {
   "cell_type": "markdown",
   "metadata": {},
   "source": [
    "#1. Weekday"
   ]
  },
  {
   "cell_type": "code",
   "execution_count": 4,
   "metadata": {
    "collapsed": false
   },
   "outputs": [
    {
     "data": {
      "text/plain": [
       "[(('10001', 0), 6),\n",
       " (('10001', 1), 12),\n",
       " (('10001', 2), 8),\n",
       " (('10001', 4), 15),\n",
       " (('10001', 5), 15)]"
      ]
     },
     "execution_count": 4,
     "metadata": {},
     "output_type": "execute_result"
    }
   ],
   "source": [
    "#Calculating sum of complaints per zipcode per weekday\n",
    "\n",
    "def mapper1(row):\n",
    "    weekday = (row['Incident Zip'], dateutil.parser.parse(row['Created Date']).weekday())\n",
    "    yield (weekday, 1)\n",
    "\n",
    "def reducer1(k2v2):\n",
    "    weekday, count = k2v2\n",
    "    return (weekday, sum(count)) \n",
    "\n",
    "with open('noise_test.csv', 'r') as fi:\n",
    "    reader = csv.DictReader(fi)\n",
    "    output1 = list(mr.run(reader, mapper1, reducer1))\n",
    "\n",
    "output1[6:11]"
   ]
  },
  {
   "cell_type": "code",
   "execution_count": 10,
   "metadata": {
    "collapsed": false
   },
   "outputs": [
    {
     "data": {
      "text/plain": [
       "['',\n",
       " '10065',\n",
       " '10453',\n",
       " '10452',\n",
       " '10451',\n",
       " '10457',\n",
       " '10456',\n",
       " '10455',\n",
       " '10454',\n",
       " '10459']"
      ]
     },
     "execution_count": 10,
     "metadata": {},
     "output_type": "execute_result"
    }
   ],
   "source": [
    "#Getting unique zipcodes\n",
    "\n",
    "zipcodes = []\n",
    "\n",
    "for i in output1:\n",
    "    zipcodes.append(i[0][0])\n",
    "    \n",
    "zipcodes = list(set(zipcodes))\n",
    "\n",
    "zipcodes[:10]"
   ]
  },
  {
   "cell_type": "code",
   "execution_count": 18,
   "metadata": {
    "collapsed": false
   },
   "outputs": [
    {
     "data": {
      "text/plain": [
       "[(0, 7), (1, 9), (2, 10), (4, 26), (5, 30), (6, 20)]"
      ]
     },
     "execution_count": 18,
     "metadata": {},
     "output_type": "execute_result"
    }
   ],
   "source": [
    "#Creating dictionaries for each zipcode\n",
    "\n",
    "weekday = {}\n",
    "\n",
    "for i in zipcodes:\n",
    "    weekday[i] = []\n",
    "    \n",
    "for i in output1:\n",
    "    weekday[i[0][0]].append(((i[0][1]), i[1]))\n",
    "    \n",
    "weekday['11216']"
   ]
  },
  {
   "cell_type": "markdown",
   "metadata": {},
   "source": [
    "#2. Hour"
   ]
  },
  {
   "cell_type": "code",
   "execution_count": 27,
   "metadata": {
    "collapsed": false
   },
   "outputs": [
    {
     "data": {
      "text/plain": [
       "[(('10001', 0), 8),\n",
       " (('10001', 1), 7),\n",
       " (('10001', 2), 5),\n",
       " (('10001', 4), 2),\n",
       " (('10001', 6), 1)]"
      ]
     },
     "execution_count": 27,
     "metadata": {},
     "output_type": "execute_result"
    }
   ],
   "source": [
    "#Calculating sum of complaints per zipcode per hour\n",
    "\n",
    "def mapper1(row):\n",
    "    hour = (row['Incident Zip'], dateutil.parser.parse(row['Created Date']).hour)\n",
    "    yield (hour, 1)\n",
    "\n",
    "def reducer1(k2v2):\n",
    "    hour, count = k2v2\n",
    "    return (hour, sum(count)) \n",
    "\n",
    "with open('noise_test.csv', 'r') as fi:\n",
    "    reader = csv.DictReader(fi)\n",
    "    output2 = list(mr.run(reader, mapper1, reducer1))\n",
    "\n",
    "output2[15:20]"
   ]
  },
  {
   "cell_type": "code",
   "execution_count": 28,
   "metadata": {
    "collapsed": false
   },
   "outputs": [
    {
     "data": {
      "text/plain": [
       "[(0, 10),\n",
       " (1, 23),\n",
       " (2, 4),\n",
       " (3, 8),\n",
       " (4, 3),\n",
       " (5, 1),\n",
       " (7, 4),\n",
       " (9, 3),\n",
       " (10, 1),\n",
       " (11, 4),\n",
       " (12, 1),\n",
       " (14, 1),\n",
       " (16, 3),\n",
       " (17, 3),\n",
       " (18, 2),\n",
       " (19, 6),\n",
       " (20, 3),\n",
       " (21, 6),\n",
       " (22, 3),\n",
       " (23, 13)]"
      ]
     },
     "execution_count": 28,
     "metadata": {},
     "output_type": "execute_result"
    }
   ],
   "source": [
    "#Creating dictionaries for each zipcode\n",
    "\n",
    "hour = {}\n",
    "\n",
    "for i in zipcodes:\n",
    "    hour[i] = []\n",
    "    \n",
    "for i in output2:\n",
    "    hour[i[0][0]].append(((i[0][1]), i[1]))\n",
    "    \n",
    "hour['11216']"
   ]
  },
  {
   "cell_type": "markdown",
   "metadata": {},
   "source": [
    "#3. Descriptor"
   ]
  },
  {
   "cell_type": "code",
   "execution_count": null,
   "metadata": {
    "collapsed": true
   },
   "outputs": [],
   "source": []
  }
 ],
 "metadata": {
  "kernelspec": {
   "display_name": "Python 2",
   "language": "python",
   "name": "python2"
  },
  "language_info": {
   "codemirror_mode": {
    "name": "ipython",
    "version": 2
   },
   "file_extension": ".py",
   "mimetype": "text/x-python",
   "name": "python",
   "nbconvert_exporter": "python",
   "pygments_lexer": "ipython2",
   "version": "2.7.10"
  }
 },
 "nbformat": 4,
 "nbformat_minor": 0
}
